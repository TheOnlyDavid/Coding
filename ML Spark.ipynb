{
 "cells": [
  {
   "cell_type": "code",
   "execution_count": 3,
   "id": "f4f3778b-1558-426a-a687-617dc1497ad1",
   "metadata": {},
   "outputs": [],
   "source": [
    "from pyspark.sql import SparkSession"
   ]
  },
  {
   "cell_type": "code",
   "execution_count": 4,
   "id": "0ae427c0-33fb-4072-ae5f-64ab232517a5",
   "metadata": {},
   "outputs": [
    {
     "name": "stderr",
     "output_type": "stream",
     "text": [
      "Setting default log level to \"WARN\".\n",
      "To adjust logging level use sc.setLogLevel(newLevel). For SparkR, use setLogLevel(newLevel).\n"
     ]
    },
    {
     "name": "stdout",
     "output_type": "stream",
     "text": [
      "22/07/28 09:45:56 WARN NativeCodeLoader: Unable to load native-hadoop library for your platform... using builtin-java classes where applicable\n"
     ]
    }
   ],
   "source": [
    "spark = SparkSession.builder.getOrCreate()"
   ]
  },
  {
   "cell_type": "code",
   "execution_count": 5,
   "id": "38c8a51e-daf6-4df9-9a6b-c75a1e261456",
   "metadata": {},
   "outputs": [
    {
     "data": {
      "text/html": [
       "\n",
       "            <div>\n",
       "                <p><b>SparkSession - in-memory</b></p>\n",
       "                \n",
       "        <div>\n",
       "            <p><b>SparkContext</b></p>\n",
       "\n",
       "            <p><a href=\"http://192.168.68.114:4040\">Spark UI</a></p>\n",
       "\n",
       "            <dl>\n",
       "              <dt>Version</dt>\n",
       "                <dd><code>v3.3.0</code></dd>\n",
       "              <dt>Master</dt>\n",
       "                <dd><code>local[*]</code></dd>\n",
       "              <dt>AppName</dt>\n",
       "                <dd><code>pyspark-shell</code></dd>\n",
       "            </dl>\n",
       "        </div>\n",
       "        \n",
       "            </div>\n",
       "        "
      ],
      "text/plain": [
       "<pyspark.sql.session.SparkSession at 0x7f88584f89a0>"
      ]
     },
     "execution_count": 5,
     "metadata": {},
     "output_type": "execute_result"
    }
   ],
   "source": [
    "spark"
   ]
  },
  {
   "cell_type": "markdown",
   "id": "ba811f23-aa3d-4cff-9f6a-dacdbae71229",
   "metadata": {},
   "source": [
    "# ---DATA PREPARATION / PREPROCESSING---\n",
    "## 1\n",
    "Normalize"
   ]
  },
  {
   "cell_type": "code",
   "execution_count": 4,
   "id": "f30ed609-4fec-46d2-ad5b-641ad39b6e68",
   "metadata": {},
   "outputs": [],
   "source": [
    "from pyspark.ml.feature import MinMaxScaler\n",
    "from pyspark.ml.linalg import Vectors"
   ]
  },
  {
   "cell_type": "code",
   "execution_count": 5,
   "id": "0767bdc8-5773-4df0-81c9-02642fa5d03a",
   "metadata": {},
   "outputs": [],
   "source": [
    "features_df = spark.createDataFrame([\n",
    "    (1, Vectors.dense([10.0,10000.0,1.0]),),\n",
    "    (2, Vectors.dense([20.0,30000.0,2.0]),),\n",
    "    (3, Vectors.dense([30.0,40000.0,3.0]),)\n",
    "],['id','features'])"
   ]
  },
  {
   "cell_type": "code",
   "execution_count": 6,
   "id": "1d86e4ce-325e-47dc-8e6b-7ce4b3800333",
   "metadata": {},
   "outputs": [
    {
     "name": "stderr",
     "output_type": "stream",
     "text": [
      "                                                                                \r"
     ]
    },
    {
     "name": "stdout",
     "output_type": "stream",
     "text": [
      "+---+------------------+\n",
      "| id|          features|\n",
      "+---+------------------+\n",
      "|  1|[10.0,10000.0,1.0]|\n",
      "|  2|[20.0,30000.0,2.0]|\n",
      "|  3|[30.0,40000.0,3.0]|\n",
      "+---+------------------+\n",
      "\n"
     ]
    }
   ],
   "source": [
    "features_df.show()"
   ]
  },
  {
   "cell_type": "code",
   "execution_count": 7,
   "id": "50a40cf2-7f77-4f38-82b7-b5307364ae9d",
   "metadata": {},
   "outputs": [
    {
     "data": {
      "text/plain": [
       "[Row(id=1, features=DenseVector([10.0, 10000.0, 1.0]))]"
      ]
     },
     "execution_count": 7,
     "metadata": {},
     "output_type": "execute_result"
    }
   ],
   "source": [
    "features_df.take(1)"
   ]
  },
  {
   "cell_type": "code",
   "execution_count": 8,
   "id": "40141304-7cb3-4486-89c5-17991f3f818b",
   "metadata": {},
   "outputs": [],
   "source": [
    "feature_scaler = MinMaxScaler(inputCol='features',outputCol='scaledfeatures')"
   ]
  },
  {
   "cell_type": "code",
   "execution_count": 9,
   "id": "cdcc2436-2bfa-4aa1-86d8-a41f38ec8bb4",
   "metadata": {},
   "outputs": [
    {
     "name": "stderr",
     "output_type": "stream",
     "text": [
      "                                                                                \r"
     ]
    }
   ],
   "source": [
    "scaledmodel = feature_scaler.fit(features_df)"
   ]
  },
  {
   "cell_type": "code",
   "execution_count": 10,
   "id": "4f2dc80a-f326-4a6b-ba61-948b2301acf4",
   "metadata": {},
   "outputs": [],
   "source": [
    "scaledfeatures_df = scaledmodel.transform(features_df)"
   ]
  },
  {
   "cell_type": "code",
   "execution_count": 11,
   "id": "e56a0d7f-9a2d-4bdf-8f38-b735e369ea14",
   "metadata": {},
   "outputs": [
    {
     "name": "stderr",
     "output_type": "stream",
     "text": [
      "                                                                                \r"
     ]
    },
    {
     "name": "stdout",
     "output_type": "stream",
     "text": [
      "+---+------------------+--------------------+\n",
      "| id|          features|      scaledfeatures|\n",
      "+---+------------------+--------------------+\n",
      "|  1|[10.0,10000.0,1.0]|           (3,[],[])|\n",
      "|  2|[20.0,30000.0,2.0]|[0.5,0.6666666666...|\n",
      "|  3|[30.0,40000.0,3.0]|       [1.0,1.0,1.0]|\n",
      "+---+------------------+--------------------+\n",
      "\n"
     ]
    }
   ],
   "source": [
    "scaledfeatures_df.show()"
   ]
  },
  {
   "cell_type": "markdown",
   "id": "fa501fd3-63cb-4cd7-a4f9-84667bf99f21",
   "metadata": {},
   "source": [
    "## 2\n",
    "Standardize"
   ]
  },
  {
   "cell_type": "code",
   "execution_count": 13,
   "id": "825aac04-950b-4139-a182-dc9eaac44b7a",
   "metadata": {},
   "outputs": [],
   "source": [
    "from pyspark.ml.feature import StandardScaler\n",
    "from pyspark.ml.linalg import Vectors"
   ]
  },
  {
   "cell_type": "code",
   "execution_count": 14,
   "id": "c6a9dcf6-ed42-42b2-b8cf-3450e35451b7",
   "metadata": {},
   "outputs": [],
   "source": [
    "features_df = spark.createDataFrame([\n",
    "    (1, Vectors.dense([10.0,10000.00,1.0]),),\n",
    "    (2, Vectors.dense([20.0,30000.00,2.0]),),\n",
    "    (3, Vectors.dense([30.0,40000.00,3.0]),)\n",
    "],['id','features'])"
   ]
  },
  {
   "cell_type": "code",
   "execution_count": 15,
   "id": "7fc63045-7ba3-43eb-aa24-b0a053536b58",
   "metadata": {},
   "outputs": [],
   "source": [
    "feature_stand_scaler = StandardScaler(inputCol='features', outputCol='sfeatures', withStd=True, withMean=True)"
   ]
  },
  {
   "cell_type": "code",
   "execution_count": 16,
   "id": "86204f67-0bf1-4f81-b66c-6054b275cd81",
   "metadata": {},
   "outputs": [],
   "source": [
    "stand_smodel = feature_stand_scaler.fit(features_df)"
   ]
  },
  {
   "cell_type": "code",
   "execution_count": 17,
   "id": "73ecc10a-7c21-4a6c-bac3-27c60fd43b0c",
   "metadata": {},
   "outputs": [],
   "source": [
    "stand_sfeatures_df = stand_smodel.transform(features_df)"
   ]
  },
  {
   "cell_type": "code",
   "execution_count": 28,
   "id": "985f00e2-8a06-4a4f-82d8-4d353346085f",
   "metadata": {},
   "outputs": [
    {
     "data": {
      "text/plain": [
       "[Row(id=1, features=DenseVector([10.0, 10000.0, 1.0]), sfeatures=DenseVector([-1.0, -1.0911, -1.0])),\n",
       " Row(id=2, features=DenseVector([20.0, 30000.0, 2.0]), sfeatures=DenseVector([0.0, 0.2182, 0.0])),\n",
       " Row(id=3, features=DenseVector([30.0, 40000.0, 3.0]), sfeatures=DenseVector([1.0, 0.8729, 1.0]))]"
      ]
     },
     "execution_count": 28,
     "metadata": {},
     "output_type": "execute_result"
    }
   ],
   "source": [
    "stand_sfeatures_df.take(3)"
   ]
  },
  {
   "cell_type": "markdown",
   "id": "815e4fce-a609-491c-9a0e-f078f1f39c0c",
   "metadata": {},
   "source": [
    "## 3\n",
    "Buckets / Partitions"
   ]
  },
  {
   "cell_type": "code",
   "execution_count": 29,
   "id": "d07ee54b-8102-4abc-8c96-3b6c3aa7dd54",
   "metadata": {},
   "outputs": [],
   "source": [
    "from pyspark.ml.feature import Bucketizer"
   ]
  },
  {
   "cell_type": "code",
   "execution_count": 30,
   "id": "1f316537-9911-4a6b-942b-d807d2d2e12e",
   "metadata": {},
   "outputs": [],
   "source": [
    "splits = [-float('inf'), -10.0,0.0,10.0,float('inf')]"
   ]
  },
  {
   "cell_type": "code",
   "execution_count": 34,
   "id": "431781f4-4c73-4e43-a440-6fa4e7294db7",
   "metadata": {},
   "outputs": [],
   "source": [
    "b_data = [(-800.0,),(-10.5,),(-1.7,),(0.0,),(8.2,),(90.1,)]"
   ]
  },
  {
   "cell_type": "code",
   "execution_count": 35,
   "id": "420e2a5c-cc9b-497d-b139-88e5d36b1196",
   "metadata": {},
   "outputs": [],
   "source": [
    "b_df = spark.createDataFrame(b_data, ['features'])"
   ]
  },
  {
   "cell_type": "code",
   "execution_count": 36,
   "id": "6cb9ec6f-b236-41ce-b864-134654cfaacd",
   "metadata": {},
   "outputs": [
    {
     "name": "stdout",
     "output_type": "stream",
     "text": [
      "+--------+\n",
      "|features|\n",
      "+--------+\n",
      "|  -800.0|\n",
      "|   -10.5|\n",
      "|    -1.7|\n",
      "|     0.0|\n",
      "|     8.2|\n",
      "|    90.1|\n",
      "+--------+\n",
      "\n"
     ]
    }
   ],
   "source": [
    "b_df.show()"
   ]
  },
  {
   "cell_type": "code",
   "execution_count": 37,
   "id": "e06e579a-c914-4b8f-a500-ad61ffe03611",
   "metadata": {},
   "outputs": [],
   "source": [
    "bucketizer = Bucketizer(splits=splits, inputCol='features' , outputCol='bfeatures')"
   ]
  },
  {
   "cell_type": "code",
   "execution_count": 39,
   "id": "d2c948f6-1068-4921-a8ac-7ff2b30a4d24",
   "metadata": {},
   "outputs": [],
   "source": [
    "bucketed_df = bucketizer.transform(b_df)"
   ]
  },
  {
   "cell_type": "code",
   "execution_count": 40,
   "id": "a24b3849-9b8f-4c78-9b1d-9c6d43a7c267",
   "metadata": {},
   "outputs": [
    {
     "name": "stdout",
     "output_type": "stream",
     "text": [
      "+--------+---------+\n",
      "|features|bfeatures|\n",
      "+--------+---------+\n",
      "|  -800.0|      0.0|\n",
      "|   -10.5|      0.0|\n",
      "|    -1.7|      1.0|\n",
      "|     0.0|      2.0|\n",
      "|     8.2|      2.0|\n",
      "|    90.1|      3.0|\n",
      "+--------+---------+\n",
      "\n"
     ]
    }
   ],
   "source": [
    "bucketed_df.show()"
   ]
  },
  {
   "cell_type": "markdown",
   "id": "eaea6d24-5575-4882-b1d7-0a6666d5d73d",
   "metadata": {},
   "source": [
    "## 4\n",
    "Text data / Tokenize"
   ]
  },
  {
   "cell_type": "code",
   "execution_count": 41,
   "id": "4835cb19-1338-45c2-9b37-fcc48b5b14cb",
   "metadata": {},
   "outputs": [],
   "source": [
    "from pyspark.ml.feature import Tokenizer"
   ]
  },
  {
   "cell_type": "code",
   "execution_count": 52,
   "id": "7afa172c-6aef-4a7f-935e-ea9f5308f546",
   "metadata": {},
   "outputs": [],
   "source": [
    "sentence_df = spark.createDataFrame([(1,'This is a sentence'),(2,'MLlib is really neat'),(3,'I love it')], ['id','sentences'])"
   ]
  },
  {
   "cell_type": "code",
   "execution_count": 53,
   "id": "5287d73c-55d9-4d2c-9af2-f62f755dc478",
   "metadata": {},
   "outputs": [
    {
     "name": "stdout",
     "output_type": "stream",
     "text": [
      "+---+--------------------+\n",
      "| id|           sentences|\n",
      "+---+--------------------+\n",
      "|  1|  This is a sentence|\n",
      "|  2|MLlib is really neat|\n",
      "|  3|           I love it|\n",
      "+---+--------------------+\n",
      "\n"
     ]
    }
   ],
   "source": [
    "sentence_df.show()"
   ]
  },
  {
   "cell_type": "code",
   "execution_count": 56,
   "id": "092a1b04-c593-4ce1-a122-eb1f12773f48",
   "metadata": {},
   "outputs": [],
   "source": [
    "sent_token = Tokenizer(inputCol='sentences',outputCol='words')"
   ]
  },
  {
   "cell_type": "code",
   "execution_count": 57,
   "id": "b36edb10-0a2f-498c-8a7e-63f75578618d",
   "metadata": {},
   "outputs": [],
   "source": [
    "sent_tokenized_df = sent_token.transform(sentence_df)"
   ]
  },
  {
   "cell_type": "code",
   "execution_count": 58,
   "id": "a88fe391-c989-44d9-bf4d-4f7cfb9c3429",
   "metadata": {},
   "outputs": [
    {
     "name": "stdout",
     "output_type": "stream",
     "text": [
      "+---+--------------------+--------------------+\n",
      "| id|           sentences|               words|\n",
      "+---+--------------------+--------------------+\n",
      "|  1|  This is a sentence|[this, is, a, sen...|\n",
      "|  2|MLlib is really neat|[mllib, is, reall...|\n",
      "|  3|           I love it|       [i, love, it]|\n",
      "+---+--------------------+--------------------+\n",
      "\n"
     ]
    }
   ],
   "source": [
    "sent_tokenized_df.show()"
   ]
  },
  {
   "cell_type": "code",
   "execution_count": 59,
   "id": "603c422f-bd68-4c4b-8019-d598ae77cacf",
   "metadata": {},
   "outputs": [],
   "source": [
    "from pyspark.ml.feature import HashingTF, IDF"
   ]
  },
  {
   "cell_type": "code",
   "execution_count": 63,
   "id": "cb0eb75c-e807-48ef-afa1-ac7ec1d0ddce",
   "metadata": {},
   "outputs": [
    {
     "data": {
      "text/plain": [
       "DataFrame[id: bigint, sentences: string]"
      ]
     },
     "execution_count": 63,
     "metadata": {},
     "output_type": "execute_result"
    }
   ],
   "source": [
    "sentence_df"
   ]
  },
  {
   "cell_type": "code",
   "execution_count": 64,
   "id": "48c5acfb-d47f-4ccb-975a-b3f344a849d4",
   "metadata": {},
   "outputs": [],
   "source": [
    "hashingTF = HashingTF(inputCol='words',outputCol='rawFeatures',numFeatures=20)"
   ]
  },
  {
   "cell_type": "code",
   "execution_count": 66,
   "id": "26a069c4-cb91-442c-b22c-b3a05a7c1d8e",
   "metadata": {},
   "outputs": [
    {
     "name": "stdout",
     "output_type": "stream",
     "text": [
      "+---+--------------------+--------------------+--------------------+\n",
      "| id|           sentences|               words|         rawFeatures|\n",
      "+---+--------------------+--------------------+--------------------+\n",
      "|  1|  This is a sentence|[this, is, a, sen...|(20,[7,9,12,13],[...|\n",
      "|  2|MLlib is really neat|[mllib, is, reall...|(20,[6,9,12,15],[...|\n",
      "|  3|           I love it|       [i, love, it]|(20,[0,6,16],[1.0...|\n",
      "+---+--------------------+--------------------+--------------------+\n",
      "\n"
     ]
    }
   ],
   "source": [
    "sent_hfTF_df = hashingTF.transform(sent_tokenized_df)\n",
    "sent_hfTF_df.show()"
   ]
  },
  {
   "cell_type": "code",
   "execution_count": 67,
   "id": "3b489140-c0e7-495c-8cc9-3f236e7493e4",
   "metadata": {},
   "outputs": [
    {
     "data": {
      "text/plain": [
       "[Row(id=1, sentences='This is a sentence', words=['this', 'is', 'a', 'sentence'], rawFeatures=SparseVector(20, {7: 1.0, 9: 1.0, 12: 1.0, 13: 1.0})),\n",
       " Row(id=2, sentences='MLlib is really neat', words=['mllib', 'is', 'really', 'neat'], rawFeatures=SparseVector(20, {6: 1.0, 9: 1.0, 12: 1.0, 15: 1.0})),\n",
       " Row(id=3, sentences='I love it', words=['i', 'love', 'it'], rawFeatures=SparseVector(20, {0: 1.0, 6: 1.0, 16: 1.0}))]"
      ]
     },
     "execution_count": 67,
     "metadata": {},
     "output_type": "execute_result"
    }
   ],
   "source": [
    "sent_hfTF_df.take(3)"
   ]
  },
  {
   "cell_type": "code",
   "execution_count": 68,
   "id": "85a141b4-e4ab-4bc0-8c02-c9af18ddbc25",
   "metadata": {},
   "outputs": [],
   "source": [
    "idf = IDF(inputCol='rawFeatures',outputCol='idf_features')"
   ]
  },
  {
   "cell_type": "code",
   "execution_count": 69,
   "id": "2cc6b363-9f4d-41c7-bf99-c6f6005eee1d",
   "metadata": {},
   "outputs": [
    {
     "name": "stderr",
     "output_type": "stream",
     "text": [
      "                                                                                \r"
     ]
    }
   ],
   "source": [
    "idfModel = idf.fit(sent_hfTF_df)"
   ]
  },
  {
   "cell_type": "code",
   "execution_count": 72,
   "id": "f6995de1-ddb7-4409-bf38-0afd05be85e1",
   "metadata": {},
   "outputs": [
    {
     "name": "stdout",
     "output_type": "stream",
     "text": [
      "+---+--------------------+--------------------+--------------------+--------------------+\n",
      "| id|           sentences|               words|         rawFeatures|        idf_features|\n",
      "+---+--------------------+--------------------+--------------------+--------------------+\n",
      "|  1|  This is a sentence|[this, is, a, sen...|(20,[7,9,12,13],[...|(20,[7,9,12,13],[...|\n",
      "|  2|MLlib is really neat|[mllib, is, reall...|(20,[6,9,12,15],[...|(20,[6,9,12,15],[...|\n",
      "|  3|           I love it|       [i, love, it]|(20,[0,6,16],[1.0...|(20,[0,6,16],[0.6...|\n",
      "+---+--------------------+--------------------+--------------------+--------------------+\n",
      "\n"
     ]
    }
   ],
   "source": [
    "tfidf_df = idfModel.transform(sent_hfTF_df)\n",
    "tfidf_df.show()"
   ]
  },
  {
   "cell_type": "code",
   "execution_count": 73,
   "id": "a73b56e8-6fbe-4f69-bd60-d216e54003a9",
   "metadata": {},
   "outputs": [
    {
     "data": {
      "text/plain": [
       "[Row(id=1, sentences='This is a sentence', words=['this', 'is', 'a', 'sentence'], rawFeatures=SparseVector(20, {7: 1.0, 9: 1.0, 12: 1.0, 13: 1.0}), idf_features=SparseVector(20, {7: 0.6931, 9: 0.2877, 12: 0.2877, 13: 0.6931}))]"
      ]
     },
     "execution_count": 73,
     "metadata": {},
     "output_type": "execute_result"
    }
   ],
   "source": [
    "tfidf_df.take(1)"
   ]
  },
  {
   "cell_type": "markdown",
   "id": "7386a3b1-aeae-4aab-8ad6-07099e8b51e0",
   "metadata": {
    "tags": []
   },
   "source": [
    "### To sum it up!\n",
    "MinMaxScaler scales attributes from -1 to 1, normalize data\n",
    "\n",
    "SrandardScaler same but tries a normal dist, scales data\n",
    "\n",
    "Bucketizer groups values by creating partitions\n",
    "\n",
    "Tokenizer splits strings to words\n",
    "\n",
    "HashingTF creates frequency of words from text"
   ]
  },
  {
   "cell_type": "markdown",
   "id": "77163b28-7d53-425a-b2a8-62e24b4c2b75",
   "metadata": {},
   "source": [
    "# ---Clustering---\n",
    "## 1\n",
    "K-means"
   ]
  },
  {
   "cell_type": "code",
   "execution_count": 75,
   "id": "dce69078-7e41-46a1-92d3-7e05e7795fe7",
   "metadata": {},
   "outputs": [],
   "source": [
    "from pyspark.ml.linalg import Vectors\n",
    "from pyspark.ml.feature import VectorAssembler\n",
    "from pyspark.ml.clustering import KMeans"
   ]
  },
  {
   "cell_type": "code",
   "execution_count": 89,
   "id": "407cf8ac-5ff3-4db2-be55-db0a4003d082",
   "metadata": {},
   "outputs": [
    {
     "name": "stdout",
     "output_type": "stream",
     "text": [
      "+----+----+----+\n",
      "|col1|col2|col3|\n",
      "+----+----+----+\n",
      "|   7|   4|   1|\n",
      "|   7|   7|   9|\n",
      "+----+----+----+\n",
      "only showing top 2 rows\n",
      "\n"
     ]
    }
   ],
   "source": [
    "cluster_df = spark.read.csv('/Users/aaron/Downloads/Ex_Files_Spark_ML_AI/Exercise Files/Ch03/03_02/clustering_dataset.csv',header=True,inferSchema=True)\n",
    "cluster_df.show(2)"
   ]
  },
  {
   "cell_type": "code",
   "execution_count": 90,
   "id": "ac4b9a49-eb60-4604-9ec9-915139bfd649",
   "metadata": {},
   "outputs": [],
   "source": [
    "vectorAssembler = VectorAssembler(inputCols=['col1','col2','col3'],outputCol='features')"
   ]
  },
  {
   "cell_type": "code",
   "execution_count": 91,
   "id": "b38fcd16-fc96-4c89-851f-34caf59dc988",
   "metadata": {},
   "outputs": [
    {
     "name": "stdout",
     "output_type": "stream",
     "text": [
      "+----+----+----+--------------+\n",
      "|col1|col2|col3|      features|\n",
      "+----+----+----+--------------+\n",
      "|   7|   4|   1| [7.0,4.0,1.0]|\n",
      "|   7|   7|   9| [7.0,7.0,9.0]|\n",
      "|   7|   9|   6| [7.0,9.0,6.0]|\n",
      "|   1|   6|   5| [1.0,6.0,5.0]|\n",
      "|   6|   7|   7| [6.0,7.0,7.0]|\n",
      "|   7|   9|   4| [7.0,9.0,4.0]|\n",
      "|   7|  10|   6|[7.0,10.0,6.0]|\n",
      "|   7|   8|   2| [7.0,8.0,2.0]|\n",
      "|   8|   3|   8| [8.0,3.0,8.0]|\n",
      "|   4|  10|   5|[4.0,10.0,5.0]|\n",
      "|   7|   4|   5| [7.0,4.0,5.0]|\n",
      "|   7|   8|   4| [7.0,8.0,4.0]|\n",
      "|   2|   5|   1| [2.0,5.0,1.0]|\n",
      "|   2|   6|   2| [2.0,6.0,2.0]|\n",
      "|   2|   3|   8| [2.0,3.0,8.0]|\n",
      "|   3|   9|   1| [3.0,9.0,1.0]|\n",
      "|   4|   2|   9| [4.0,2.0,9.0]|\n",
      "|   1|   7|   1| [1.0,7.0,1.0]|\n",
      "|   6|   2|   3| [6.0,2.0,3.0]|\n",
      "|   4|   1|   9| [4.0,1.0,9.0]|\n",
      "+----+----+----+--------------+\n",
      "only showing top 20 rows\n",
      "\n"
     ]
    }
   ],
   "source": [
    "vcluster_df = vectorAssembler.transform(cluster_df)\n",
    "vcluster_df.show()"
   ]
  },
  {
   "cell_type": "code",
   "execution_count": 116,
   "id": "c4c9d7f4-4ca7-4225-a74d-0f47545045da",
   "metadata": {},
   "outputs": [],
   "source": [
    "kmeans = KMeans().setK(3).setSeed(1)"
   ]
  },
  {
   "cell_type": "code",
   "execution_count": 117,
   "id": "5b329807-4ef8-4fdb-88a6-1757356b5340",
   "metadata": {},
   "outputs": [],
   "source": [
    "kmodel = kmeans.fit(vcluster_df)"
   ]
  },
  {
   "cell_type": "code",
   "execution_count": 118,
   "id": "b3bcb8f9-7d2c-48c7-b59a-d5cb84893d83",
   "metadata": {},
   "outputs": [
    {
     "data": {
      "text/plain": [
       "[array([35.88461538, 31.46153846, 34.42307692]),\n",
       " array([80.        , 79.20833333, 78.29166667]),\n",
       " array([5.12, 5.84, 4.84])]"
      ]
     },
     "execution_count": 118,
     "metadata": {},
     "output_type": "execute_result"
    }
   ],
   "source": [
    "centers = kmodel.clusterCenters()\n",
    "centers"
   ]
  },
  {
   "cell_type": "markdown",
   "id": "022976b0-fa3d-4a18-8d64-c27bf2d95f35",
   "metadata": {},
   "source": [
    "## 2\n",
    "Hierarchy clustering"
   ]
  },
  {
   "cell_type": "code",
   "execution_count": 106,
   "id": "bdcfdecc-d368-4030-a03f-eeb102ab4d89",
   "metadata": {},
   "outputs": [
    {
     "name": "stdout",
     "output_type": "stream",
     "text": [
      "+----+----+----+-------------+\n",
      "|col1|col2|col3|     features|\n",
      "+----+----+----+-------------+\n",
      "|   7|   4|   1|[7.0,4.0,1.0]|\n",
      "|   7|   7|   9|[7.0,7.0,9.0]|\n",
      "+----+----+----+-------------+\n",
      "only showing top 2 rows\n",
      "\n"
     ]
    }
   ],
   "source": [
    "vcluster_df.show(2)"
   ]
  },
  {
   "cell_type": "code",
   "execution_count": 107,
   "id": "6bb95c5e-b275-45ce-838c-16ad91baed23",
   "metadata": {},
   "outputs": [],
   "source": [
    "from pyspark.ml.clustering import BisectingKMeans"
   ]
  },
  {
   "cell_type": "code",
   "execution_count": 119,
   "id": "ff62cd56-ae43-4bf1-b614-76a9940b7537",
   "metadata": {},
   "outputs": [],
   "source": [
    "bkmeans = BisectingKMeans().setK(3).setSeed(1)"
   ]
  },
  {
   "cell_type": "code",
   "execution_count": 120,
   "id": "89262112-fe14-4f14-9c93-3a64485c735c",
   "metadata": {},
   "outputs": [],
   "source": [
    "bkmodel = bkmeans.fit(vcluster_df)"
   ]
  },
  {
   "cell_type": "code",
   "execution_count": 121,
   "id": "f51e1c3b-9b4f-49c0-83ac-a63e6eb7dd31",
   "metadata": {},
   "outputs": [
    {
     "data": {
      "text/plain": [
       "[array([5.12, 5.84, 4.84]),\n",
       " array([35.88461538, 31.46153846, 34.42307692]),\n",
       " array([80.        , 79.20833333, 78.29166667])]"
      ]
     },
     "execution_count": 121,
     "metadata": {},
     "output_type": "execute_result"
    }
   ],
   "source": [
    "bkcenters = bkmodel.clusterCenters()\n",
    "bkcenters"
   ]
  },
  {
   "cell_type": "markdown",
   "id": "91c3d7c6-0e3c-42cd-bb70-fb0bae21338b",
   "metadata": {},
   "source": [
    "# ---Classification---\n",
    "## 1\n",
    "Preprocessing"
   ]
  },
  {
   "cell_type": "code",
   "execution_count": 1,
   "id": "44612be3-58d4-4723-8d78-38ae01324fc4",
   "metadata": {},
   "outputs": [],
   "source": [
    "from pyspark.sql.functions import *\n",
    "from pyspark.ml.feature import VectorAssembler\n",
    "from pyspark.ml.feature import StringIndexer"
   ]
  },
  {
   "cell_type": "code",
   "execution_count": 11,
   "id": "aca8709a-3e52-445b-8e0b-db768e220328",
   "metadata": {},
   "outputs": [],
   "source": [
    "iris_df = spark.read.csv('/Users/aaron/Downloads/iris.data', inferSchema=True)"
   ]
  },
  {
   "cell_type": "code",
   "execution_count": 15,
   "id": "240cdea7-241a-4f01-9460-28869039c9c0",
   "metadata": {},
   "outputs": [
    {
     "name": "stdout",
     "output_type": "stream",
     "text": [
      "+------------+-----------+------------+-----------+-----------+\n",
      "|sepal_lenght|sepal_width|petal_lenght|petal_width|    species|\n",
      "+------------+-----------+------------+-----------+-----------+\n",
      "|         5.1|        3.5|         1.4|        0.2|Iris-setosa|\n",
      "|         4.9|        3.0|         1.4|        0.2|Iris-setosa|\n",
      "+------------+-----------+------------+-----------+-----------+\n",
      "only showing top 2 rows\n",
      "\n"
     ]
    }
   ],
   "source": [
    "iris_df.show(2)"
   ]
  },
  {
   "cell_type": "code",
   "execution_count": 13,
   "id": "8bce293a-ab14-4eb5-a3e3-2ee91f9c2b6a",
   "metadata": {},
   "outputs": [],
   "source": [
    "iris_df = iris_df.select( col('_c0').alias('sepal_lenght'), \\\n",
    "                          col('_c1').alias('sepal_width'), \\\n",
    "                          col('_c2').alias('petal_lenght'), \\\n",
    "                          col('_c3').alias('petal_width'), \\\n",
    "                          col('_c4').alias('species')   )"
   ]
  },
  {
   "cell_type": "code",
   "execution_count": 14,
   "id": "b9678c50-c6ad-4b3a-b156-9c3e8ee2db33",
   "metadata": {},
   "outputs": [
    {
     "name": "stdout",
     "output_type": "stream",
     "text": [
      "+------------+-----------+------------+-----------+-----------+\n",
      "|sepal_lenght|sepal_width|petal_lenght|petal_width|    species|\n",
      "+------------+-----------+------------+-----------+-----------+\n",
      "|         5.1|        3.5|         1.4|        0.2|Iris-setosa|\n",
      "|         4.9|        3.0|         1.4|        0.2|Iris-setosa|\n",
      "+------------+-----------+------------+-----------+-----------+\n",
      "only showing top 2 rows\n",
      "\n"
     ]
    }
   ],
   "source": [
    "iris_df.show(2)"
   ]
  },
  {
   "cell_type": "code",
   "execution_count": 16,
   "id": "90af4452-d62b-4670-97c6-dae520594ad6",
   "metadata": {},
   "outputs": [],
   "source": [
    "vectorAssembler = VectorAssembler(inputCols=['sepal_lenght','sepal_width','petal_lenght','petal_width'],outputCol='features')"
   ]
  },
  {
   "cell_type": "code",
   "execution_count": 17,
   "id": "e655d917-9c9a-43ad-b491-aa63c6305774",
   "metadata": {},
   "outputs": [],
   "source": [
    "viris_df = vectorAssembler.transform(iris_df)"
   ]
  },
  {
   "cell_type": "code",
   "execution_count": 20,
   "id": "f2e12a3e-3556-4d13-b335-9a36b4584958",
   "metadata": {},
   "outputs": [
    {
     "name": "stdout",
     "output_type": "stream",
     "text": [
      "+------------+-----------+------------+-----------+-----------+-----------------+\n",
      "|sepal_lenght|sepal_width|petal_lenght|petal_width|    species|         features|\n",
      "+------------+-----------+------------+-----------+-----------+-----------------+\n",
      "|         5.1|        3.5|         1.4|        0.2|Iris-setosa|[5.1,3.5,1.4,0.2]|\n",
      "|         4.9|        3.0|         1.4|        0.2|Iris-setosa|[4.9,3.0,1.4,0.2]|\n",
      "+------------+-----------+------------+-----------+-----------+-----------------+\n",
      "only showing top 2 rows\n",
      "\n"
     ]
    }
   ],
   "source": [
    "viris_df.show(2)"
   ]
  },
  {
   "cell_type": "code",
   "execution_count": 21,
   "id": "f2ef5818-0ceb-429f-9768-f3d40416bdb2",
   "metadata": {},
   "outputs": [],
   "source": [
    "indexer = StringIndexer(inputCol='species',outputCol='label')"
   ]
  },
  {
   "cell_type": "code",
   "execution_count": 22,
   "id": "b4b29022-b1cb-4524-ba17-6e7428d559d7",
   "metadata": {},
   "outputs": [
    {
     "name": "stderr",
     "output_type": "stream",
     "text": [
      "                                                                                \r"
     ]
    }
   ],
   "source": [
    "iviris_df = indexer.fit(viris_df).transform(viris_df)"
   ]
  },
  {
   "cell_type": "code",
   "execution_count": 25,
   "id": "38705c43-2984-45a8-9c73-e2a62572b36e",
   "metadata": {},
   "outputs": [
    {
     "name": "stdout",
     "output_type": "stream",
     "text": [
      "+------------+-----------+------------+-----------+-----------+-----------------+-----+\n",
      "|sepal_lenght|sepal_width|petal_lenght|petal_width|    species|         features|label|\n",
      "+------------+-----------+------------+-----------+-----------+-----------------+-----+\n",
      "|         5.1|        3.5|         1.4|        0.2|Iris-setosa|[5.1,3.5,1.4,0.2]|  0.0|\n",
      "|         4.9|        3.0|         1.4|        0.2|Iris-setosa|[4.9,3.0,1.4,0.2]|  0.0|\n",
      "+------------+-----------+------------+-----------+-----------+-----------------+-----+\n",
      "only showing top 2 rows\n",
      "\n"
     ]
    }
   ],
   "source": [
    "iviris_df.show(2)"
   ]
  },
  {
   "cell_type": "markdown",
   "id": "3120391b-b6db-4628-9f27-dc8150b138c6",
   "metadata": {},
   "source": [
    "## 2\n",
    "Naive Bayes"
   ]
  },
  {
   "cell_type": "code",
   "execution_count": 27,
   "id": "204bc08c-db82-4533-814d-4a7092e5302f",
   "metadata": {},
   "outputs": [],
   "source": [
    "from pyspark.ml.classification import NaiveBayes\n",
    "from pyspark.ml.evaluation import MulticlassClassificationEvaluator"
   ]
  },
  {
   "cell_type": "code",
   "execution_count": 40,
   "id": "7ca2a1bd-9ca0-4a28-b9c7-be289cfcbb0d",
   "metadata": {},
   "outputs": [],
   "source": [
    "splits = iviris_df.randomSplit([0.6,0.4],1)"
   ]
  },
  {
   "cell_type": "code",
   "execution_count": 41,
   "id": "fe38045d-cc5d-4341-97ad-c8818ab2ce6e",
   "metadata": {},
   "outputs": [
    {
     "data": {
      "text/plain": [
       "98"
      ]
     },
     "execution_count": 41,
     "metadata": {},
     "output_type": "execute_result"
    }
   ],
   "source": [
    "train_df = splits[0]\n",
    "train_df.count()"
   ]
  },
  {
   "cell_type": "code",
   "execution_count": 42,
   "id": "43ecc42c-a774-4402-817f-3bfd236b824b",
   "metadata": {},
   "outputs": [
    {
     "data": {
      "text/plain": [
       "52"
      ]
     },
     "execution_count": 42,
     "metadata": {},
     "output_type": "execute_result"
    }
   ],
   "source": [
    "test_df = splits[1]\n",
    "test_df.count()"
   ]
  },
  {
   "cell_type": "code",
   "execution_count": 39,
   "id": "0b140740-d4ef-4a28-a325-d4472270c5e3",
   "metadata": {},
   "outputs": [],
   "source": [
    "nb = NaiveBayes(modelType='multinomial')"
   ]
  },
  {
   "cell_type": "code",
   "execution_count": 43,
   "id": "6b16cfa0-a837-4fb5-bafc-7179dc5c7964",
   "metadata": {},
   "outputs": [
    {
     "name": "stderr",
     "output_type": "stream",
     "text": [
      "                                                                                \r"
     ]
    }
   ],
   "source": [
    "nb_model = nb.fit(train_df)"
   ]
  },
  {
   "cell_type": "code",
   "execution_count": 44,
   "id": "8422113d-4156-458d-b3a5-5fa21dd4de2a",
   "metadata": {},
   "outputs": [],
   "source": [
    "predictions_df = nb_model.transform(test_df)"
   ]
  },
  {
   "cell_type": "code",
   "execution_count": 47,
   "id": "be8ee45b-cfab-4630-b1fa-922df7810fdd",
   "metadata": {},
   "outputs": [],
   "source": [
    "evaluator = MulticlassClassificationEvaluator(labelCol='label', predictionCol='prediction', metricName='accuracy')"
   ]
  },
  {
   "cell_type": "code",
   "execution_count": 48,
   "id": "7429be63-639c-4073-890b-8be69a6958c1",
   "metadata": {},
   "outputs": [
    {
     "name": "stderr",
     "output_type": "stream",
     "text": [
      "                                                                                \r"
     ]
    }
   ],
   "source": [
    "nbaccuracy = evaluator.evaluate(predictions_df)"
   ]
  },
  {
   "cell_type": "code",
   "execution_count": 49,
   "id": "2d76d6bd-d069-4d46-b857-bd0082d84fe2",
   "metadata": {},
   "outputs": [
    {
     "data": {
      "text/plain": [
       "0.9807692307692307"
      ]
     },
     "execution_count": 49,
     "metadata": {},
     "output_type": "execute_result"
    }
   ],
   "source": [
    "nbaccuracy"
   ]
  },
  {
   "cell_type": "markdown",
   "id": "db85e008-9f19-4141-b46d-36bea50c7ec0",
   "metadata": {},
   "source": [
    "## 3\n",
    "Multilayer Perceptron"
   ]
  },
  {
   "cell_type": "code",
   "execution_count": 51,
   "id": "6c502275-dba5-48e6-a435-66c5dc64af0a",
   "metadata": {},
   "outputs": [],
   "source": [
    "from pyspark.ml.classification import MultilayerPerceptronClassifier"
   ]
  },
  {
   "cell_type": "code",
   "execution_count": 53,
   "id": "78d07b7f-9c2b-435f-8209-1a28e72fc029",
   "metadata": {},
   "outputs": [],
   "source": [
    "layers = [4,5,5,3]\n",
    "mlp = MultilayerPerceptronClassifier(layers=layers, seed=1)"
   ]
  },
  {
   "cell_type": "code",
   "execution_count": 54,
   "id": "6e120327-4781-4fc2-8244-af653752c267",
   "metadata": {},
   "outputs": [],
   "source": [
    "mlp_model = mlp.fit(train_df)"
   ]
  },
  {
   "cell_type": "code",
   "execution_count": 55,
   "id": "c396b507-9eba-41e2-a789-a361de065ed4",
   "metadata": {},
   "outputs": [],
   "source": [
    "mlp_predictions = mlp_model.transform(test_df)"
   ]
  },
  {
   "cell_type": "code",
   "execution_count": 57,
   "id": "e9a9c6be-344c-45b9-804b-fc31783971c5",
   "metadata": {},
   "outputs": [],
   "source": [
    "mlp_evaluator = MulticlassClassificationEvaluator(metricName='accuracy')"
   ]
  },
  {
   "cell_type": "code",
   "execution_count": 58,
   "id": "b52b5577-67f5-40d1-a079-3db9311a34cd",
   "metadata": {},
   "outputs": [],
   "source": [
    "mlp_accuracy = mlp_evaluator.evaluate(mlp_predictions)"
   ]
  },
  {
   "cell_type": "code",
   "execution_count": 59,
   "id": "32f77a89-708f-4aa9-8bfd-e421880a9fd4",
   "metadata": {},
   "outputs": [
    {
     "data": {
      "text/plain": [
       "0.6923076923076923"
      ]
     },
     "execution_count": 59,
     "metadata": {},
     "output_type": "execute_result"
    }
   ],
   "source": [
    "mlp_accuracy"
   ]
  },
  {
   "cell_type": "markdown",
   "id": "7aba7089-f27f-4ac8-af13-6b32c0bb28f8",
   "metadata": {},
   "source": [
    "## 4\n",
    "Decision trees"
   ]
  },
  {
   "cell_type": "code",
   "execution_count": 60,
   "id": "e8f8ba13-e71a-4673-acda-8a313584d802",
   "metadata": {},
   "outputs": [],
   "source": [
    "from pyspark.ml.classification import DecisionTreeClassifier"
   ]
  },
  {
   "cell_type": "code",
   "execution_count": 61,
   "id": "d4cae3ce-c951-473b-9fae-9f173a9c40dc",
   "metadata": {},
   "outputs": [],
   "source": [
    "dt = DecisionTreeClassifier(labelCol='label', featuresCol='features')"
   ]
  },
  {
   "cell_type": "code",
   "execution_count": 62,
   "id": "c27f5070-e6ce-46ab-8bad-cf97550c6116",
   "metadata": {},
   "outputs": [],
   "source": [
    "dt_model = dt.fit(train_df)"
   ]
  },
  {
   "cell_type": "code",
   "execution_count": 63,
   "id": "dff060b6-a509-4dfa-876f-73acbf5efc61",
   "metadata": {},
   "outputs": [],
   "source": [
    "dt_predictions = dt_model.transform(test_df)"
   ]
  },
  {
   "cell_type": "code",
   "execution_count": 66,
   "id": "f3897e3f-ba5b-4b86-a77e-d48e7ca917f8",
   "metadata": {},
   "outputs": [],
   "source": [
    "dt_evaluator = MulticlassClassificationEvaluator(labelCol='label', predictionCol='prediction', metricName='accuracy')"
   ]
  },
  {
   "cell_type": "code",
   "execution_count": 67,
   "id": "2ddd698b-363c-4a2c-bac7-87641bb441ea",
   "metadata": {},
   "outputs": [],
   "source": [
    "dt_accuracy = dt_evaluator.evaluate(dt_predictions)"
   ]
  },
  {
   "cell_type": "code",
   "execution_count": 68,
   "id": "fc54acb6-a48a-4377-a40b-ea41f3bfd92a",
   "metadata": {},
   "outputs": [
    {
     "data": {
      "text/plain": [
       "0.9423076923076923"
      ]
     },
     "execution_count": 68,
     "metadata": {},
     "output_type": "execute_result"
    }
   ],
   "source": [
    "dt_accuracy"
   ]
  },
  {
   "cell_type": "markdown",
   "id": "7b52ab94-1190-4165-b410-3785024dab41",
   "metadata": {},
   "source": [
    "# ---Regression---\n",
    "## 1\n",
    "Linear regression"
   ]
  },
  {
   "cell_type": "code",
   "execution_count": 69,
   "id": "c0e7835e-2a8c-44fa-b308-00290958710b",
   "metadata": {},
   "outputs": [],
   "source": [
    "from pyspark.ml.regression import LinearRegression"
   ]
  },
  {
   "cell_type": "code",
   "execution_count": 70,
   "id": "15f79309-7caf-46ff-8478-5ede1d95502a",
   "metadata": {},
   "outputs": [],
   "source": [
    "pp_df = spark.read.csv('/Users/aaron/Downloads/CCPP/Folds5x2_pp.csv',header='True',inferSchema='True')"
   ]
  },
  {
   "cell_type": "code",
   "execution_count": 71,
   "id": "8039a16c-ae7b-4fe2-8acb-96d3ec9973e5",
   "metadata": {},
   "outputs": [
    {
     "data": {
      "text/plain": [
       "DataFrame[AT: double, V: double, AP: double, RH: double, PE: double]"
      ]
     },
     "execution_count": 71,
     "metadata": {},
     "output_type": "execute_result"
    }
   ],
   "source": [
    "pp_df"
   ]
  },
  {
   "cell_type": "code",
   "execution_count": 72,
   "id": "dad24550-aec9-4ce5-b8d5-2aaaba96ac80",
   "metadata": {},
   "outputs": [],
   "source": [
    "from pyspark.ml.feature import VectorAssembler"
   ]
  },
  {
   "cell_type": "code",
   "execution_count": 73,
   "id": "175dc2c7-6be9-4787-80c2-84c2e57f36b2",
   "metadata": {},
   "outputs": [],
   "source": [
    "vectorAssembler = VectorAssembler(inputCols=['AT','V','AP','RH'],outputCol='features')"
   ]
  },
  {
   "cell_type": "code",
   "execution_count": 74,
   "id": "e05eb3f9-e82a-48b4-8c4b-bde4d01fe0f4",
   "metadata": {},
   "outputs": [],
   "source": [
    "vpp_df = vectorAssembler.transform(pp_df)"
   ]
  },
  {
   "cell_type": "code",
   "execution_count": 76,
   "id": "0fda0085-a8aa-42cb-9fd3-9c91a87bd6b0",
   "metadata": {},
   "outputs": [
    {
     "name": "stdout",
     "output_type": "stream",
     "text": [
      "+-----+-----+-------+-----+------+--------------------+\n",
      "|   AT|    V|     AP|   RH|    PE|            features|\n",
      "+-----+-----+-------+-----+------+--------------------+\n",
      "|14.96|41.76|1024.07|73.17|463.26|[14.96,41.76,1024...|\n",
      "|25.18|62.96|1020.04|59.08|444.37|[25.18,62.96,1020...|\n",
      "+-----+-----+-------+-----+------+--------------------+\n",
      "only showing top 2 rows\n",
      "\n"
     ]
    }
   ],
   "source": [
    "vpp_df.show(2)"
   ]
  },
  {
   "cell_type": "code",
   "execution_count": 77,
   "id": "0565b81a-657a-4db8-b69b-a28b10a168d1",
   "metadata": {},
   "outputs": [],
   "source": [
    "lr = LinearRegression(featuresCol='features', labelCol='PE')"
   ]
  },
  {
   "cell_type": "code",
   "execution_count": 78,
   "id": "cdda8cc0-3118-4379-ab9d-536fb84ef474",
   "metadata": {},
   "outputs": [
    {
     "name": "stdout",
     "output_type": "stream",
     "text": [
      "22/07/28 11:24:22 WARN Instrumentation: [86a35f35] regParam is zero, which might cause numerical instability and overfitting.\n",
      "22/07/28 11:24:23 WARN InstanceBuilder$NativeLAPACK: Failed to load implementation from:dev.ludovic.netlib.lapack.JNILAPACK\n"
     ]
    }
   ],
   "source": [
    "lr_model = lr.fit(vpp_df)"
   ]
  },
  {
   "cell_type": "code",
   "execution_count": 79,
   "id": "7ac68727-d150-4a31-be91-a524681b28e2",
   "metadata": {},
   "outputs": [
    {
     "data": {
      "text/plain": [
       "DenseVector([-1.9775, -0.2339, 0.0621, -0.1581])"
      ]
     },
     "execution_count": 79,
     "metadata": {},
     "output_type": "execute_result"
    }
   ],
   "source": [
    "lr_model.coefficients"
   ]
  },
  {
   "cell_type": "code",
   "execution_count": 80,
   "id": "b21c53c9-9c3a-4b12-8ba2-033fcdd5dcc2",
   "metadata": {},
   "outputs": [
    {
     "data": {
      "text/plain": [
       "454.6092744523414"
      ]
     },
     "execution_count": 80,
     "metadata": {},
     "output_type": "execute_result"
    }
   ],
   "source": [
    "lr_model.intercept"
   ]
  },
  {
   "cell_type": "code",
   "execution_count": 84,
   "id": "04c0c3bd-cf77-4292-9104-1d4a33ad2954",
   "metadata": {},
   "outputs": [
    {
     "data": {
      "text/plain": [
       "4.557126016749488"
      ]
     },
     "execution_count": 84,
     "metadata": {},
     "output_type": "execute_result"
    }
   ],
   "source": [
    "lr_model.summary.rootMeanSquaredError"
   ]
  },
  {
   "cell_type": "code",
   "execution_count": 85,
   "id": "113cc8ff-b05e-4397-8d1f-376bbbc24367",
   "metadata": {},
   "outputs": [
    {
     "name": "stderr",
     "output_type": "stream",
     "text": [
      "                                                                                \r"
     ]
    }
   ],
   "source": [
    "lr_model.save('lr1.model')"
   ]
  },
  {
   "cell_type": "markdown",
   "id": "f2567b3d-d9a7-4612-9d66-d8cab6c28175",
   "metadata": {},
   "source": [
    "## 2\n",
    "Decision tree regression"
   ]
  },
  {
   "cell_type": "code",
   "execution_count": 87,
   "id": "54a69c3e-b7fd-4b85-b40d-5964f23f1246",
   "metadata": {},
   "outputs": [],
   "source": [
    "from pyspark.ml.regression import DecisionTreeRegressor\n",
    "from pyspark.ml.evaluation import RegressionEvaluator\n",
    "from pyspark.ml.feature import VectorAssembler"
   ]
  },
  {
   "cell_type": "code",
   "execution_count": 91,
   "id": "6d5a99d7-b057-4b6c-bb7c-47a1adfb34e8",
   "metadata": {},
   "outputs": [],
   "source": [
    "splits = vpp_df.randomSplit([0.7,0.3])\n",
    "train_df = splits[0]\n",
    "test_df = splits[1]"
   ]
  },
  {
   "cell_type": "code",
   "execution_count": 92,
   "id": "40e86a95-d7e9-4c93-a878-97c861a00966",
   "metadata": {},
   "outputs": [
    {
     "data": {
      "text/plain": [
       "6654"
      ]
     },
     "execution_count": 92,
     "metadata": {},
     "output_type": "execute_result"
    }
   ],
   "source": [
    "train_df.count()"
   ]
  },
  {
   "cell_type": "code",
   "execution_count": 99,
   "id": "e8e01cb6-b651-4875-8b7f-ab460ca3188e",
   "metadata": {},
   "outputs": [
    {
     "name": "stdout",
     "output_type": "stream",
     "text": [
      "+----+-----+-------+-----+-----+--------------------+\n",
      "|  AT|    V|     AP|   RH|   PE|            features|\n",
      "+----+-----+-------+-----+-----+--------------------+\n",
      "|2.71|39.42|1026.66|81.11|489.3|[2.71,39.42,1026....|\n",
      "+----+-----+-------+-----+-----+--------------------+\n",
      "only showing top 1 row\n",
      "\n"
     ]
    }
   ],
   "source": [
    "test_df.show(1)"
   ]
  },
  {
   "cell_type": "code",
   "execution_count": 94,
   "id": "018a28f0-c408-47d9-ae79-fbf8d9b22337",
   "metadata": {},
   "outputs": [],
   "source": [
    "dt = DecisionTreeRegressor(featuresCol='features', labelCol='PE')\n",
    "dt_model = dt.fit(train_df)\n",
    "dt_predictions = dt_model.transform(test_df)"
   ]
  },
  {
   "cell_type": "code",
   "execution_count": 95,
   "id": "6d66bd1d-5262-4936-b1b8-286550aaccd9",
   "metadata": {},
   "outputs": [],
   "source": [
    "dt_evaluator = RegressionEvaluator(labelCol='PE', predictionCol='prediction', metricName='rmse')"
   ]
  },
  {
   "cell_type": "code",
   "execution_count": 96,
   "id": "c2111507-935e-4614-a53d-2654c031005b",
   "metadata": {},
   "outputs": [],
   "source": [
    "rmse = dt_evaluator.evaluate(dt_predictions)"
   ]
  },
  {
   "cell_type": "code",
   "execution_count": 97,
   "id": "97ba4cca-8f0c-423d-8808-50289370f87b",
   "metadata": {},
   "outputs": [
    {
     "data": {
      "text/plain": [
       "4.521986374989069"
      ]
     },
     "execution_count": 97,
     "metadata": {},
     "output_type": "execute_result"
    }
   ],
   "source": [
    "rmse"
   ]
  },
  {
   "cell_type": "markdown",
   "id": "66613f19-d176-47e1-b33f-eedd972fa057",
   "metadata": {},
   "source": [
    "## 3\n",
    "Gradient boosted tree regression "
   ]
  },
  {
   "cell_type": "code",
   "execution_count": 98,
   "id": "28eed371-4ed7-4b59-ac38-dc2ca53a5363",
   "metadata": {},
   "outputs": [],
   "source": [
    "from pyspark.ml.regression import GBTRegressor"
   ]
  },
  {
   "cell_type": "code",
   "execution_count": 103,
   "id": "7bb07662-988c-45a5-ad4c-2bef153532ed",
   "metadata": {},
   "outputs": [],
   "source": [
    "gbt = GBTRegressor(featuresCol='features', labelCol='PE')\n",
    "gbt_model = gbt.fit(train_df)\n",
    "gbt_predictions = gbt_model.transform(test_df)\n",
    "gbt_evaluator = RegressionEvaluator(labelCol='PE', predictionCol='prediction', metricName='rmse')\n",
    "gbt_rmse = gbt_evaluator.evaluate(gbt_predictions)"
   ]
  },
  {
   "cell_type": "code",
   "execution_count": 104,
   "id": "741e50bd-773e-4e88-b124-038762be6886",
   "metadata": {},
   "outputs": [
    {
     "data": {
      "text/plain": [
       "4.077615442165395"
      ]
     },
     "execution_count": 104,
     "metadata": {},
     "output_type": "execute_result"
    }
   ],
   "source": [
    "gbt_rmse"
   ]
  },
  {
   "cell_type": "code",
   "execution_count": null,
   "id": "23af537c-38b7-4f93-807d-e9649c986312",
   "metadata": {},
   "outputs": [],
   "source": []
  }
 ],
 "metadata": {
  "kernelspec": {
   "display_name": "Python 3 (ipykernel)",
   "language": "python",
   "name": "python3"
  },
  "language_info": {
   "codemirror_mode": {
    "name": "ipython",
    "version": 3
   },
   "file_extension": ".py",
   "mimetype": "text/x-python",
   "name": "python",
   "nbconvert_exporter": "python",
   "pygments_lexer": "ipython3",
   "version": "3.9.12"
  }
 },
 "nbformat": 4,
 "nbformat_minor": 5
}
